{
 "cells": [
  {
   "cell_type": "code",
   "execution_count": null,
   "source": [
    "from AutoFF import pl_week\r\n",
    "week = 1\r\n",
    "filename = 'PredW1.csv'\r\n",
    "pl_week(filename,week)"
   ],
   "outputs": [],
   "metadata": {}
  }
 ],
 "metadata": {
  "orig_nbformat": 4,
  "language_info": {
   "name": "python"
  }
 },
 "nbformat": 4,
 "nbformat_minor": 2
}